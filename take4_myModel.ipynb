{
 "cells": [
  {
   "cell_type": "code",
   "execution_count": null,
   "metadata": {},
   "outputs": [],
   "source": []
  }
 ],
 "metadata": {
  "kernelspec": {
   "display_name": "Python 3.10.5 ('resume_parser')",
   "language": "python",
   "name": "python3"
  },
  "language_info": {
   "name": "python",
   "version": "3.10.5"
  },
  "orig_nbformat": 4,
  "vscode": {
   "interpreter": {
    "hash": "f88c6b66e36ed60c88c9e8ba52fc69fc86e0691c5b971920f4e9b2c6aa6c05b2"
   }
  }
 },
 "nbformat": 4,
 "nbformat_minor": 2
}
