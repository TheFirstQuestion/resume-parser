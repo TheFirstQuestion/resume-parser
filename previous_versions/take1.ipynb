{
 "cells": [
  {
   "cell_type": "code",
   "execution_count": null,
   "id": "bf769634-21b7-4875-81b2-8dc91760fd20",
   "metadata": {},
   "outputs": [],
   "source": [
    "import pdftotext\n",
    "\n",
    "# Load PDF\n",
    "with open(\"sample_resumes/StevenOpferman_Resume.pdf\", \"rb\") as f:\n",
    "    pdf = pdftotext.PDF(f)\n",
    "# Make it a string\n",
    "pdfString = \"\\n\\n\".join(pdf)\n",
    "print(pdfString)"
   ]
  },
  {
   "cell_type": "code",
   "execution_count": null,
   "id": "141d7fd7-e7bf-45ee-b59a-0ab4c63a91de",
   "metadata": {},
   "outputs": [],
   "source": [
    "import phonenumbers\n",
    "from phonenumbers import geocoder\n",
    "from phonenumbers import carrier\n",
    "import area_code_nanp\n",
    "# phone number and location\n",
    "for match in phonenumbers.PhoneNumberMatcher(pdfString, \"US\"):\n",
    "    if phonenumbers.is_possible_number(match.number) and phonenumbers.is_valid_number(match.number):\n",
    "        phoneAsString = phonenumbers.format_number(match.number, phonenumbers.PhoneNumberFormat.NATIONAL)\n",
    "        print(phoneAsString)\n",
    "        print(carrier.name_for_number(match.number, \"en\"))\n",
    "        # these may be the same?\n",
    "        print(geocoder.description_for_number(match.number, \"en\"))\n",
    "        print(area_code_nanp.get_region(int(phoneAsString[1:4])))"
   ]
  },
  {
   "cell_type": "code",
   "execution_count": null,
   "id": "b3565f11-ebc7-41b8-a95b-4174c7b74e6c",
   "metadata": {},
   "outputs": [],
   "source": [
    "# email addresses -- https://www.geeksforgeeks.org/extracting-email-addresses-using-regular-expressions-python/\n",
    "import re\n",
    "for x in re.findall('\\S+@\\S+', pdfString):\n",
    "    print(x)"
   ]
  },
  {
   "cell_type": "code",
   "execution_count": null,
   "id": "1e37573f-ee18-4129-87c7-c4a13521366a",
   "metadata": {},
   "outputs": [],
   "source": [
    "from nltk.tokenize import word_tokenize\n",
    "from nltk.corpus import stopwords\n",
    "\n",
    "# Stop Words: A stop word is a commonly used word (such as “the”, “a”, “an”, “in”) that a search engine has been programmed to ignore, both when indexing entries for searching and when retrieving them as the result of a search query.\n",
    "stop_words = set(stopwords.words(\"english\"))\n",
    "word_tokens = word_tokenize(pdfString)\n",
    "\n",
    "# parse all english words (https://stackoverflow.com/a/3788947)\n",
    "with open(\"words.txt\") as word_file:\n",
    "    english_words = set(word.strip().lower() for word in word_file)\n",
    "\n",
    "\n",
    "def is_english_word(word):\n",
    "    word = word.lower()\n",
    "    # is itself a word\n",
    "    if (word) in english_words:\n",
    "        return True\n",
    "\n",
    "    # is hyphenated words\n",
    "    allSubwordsOkay = True\n",
    "    for subword in word.split(\"-\"):\n",
    "        if subword not in english_words:\n",
    "            allSubwordsOkay = False\n",
    "            break\n",
    "    if allSubwordsOkay:\n",
    "        return True\n",
    "\n",
    "    # is a period\n",
    "    allSubwordsOkay = True\n",
    "    for subword in word.split(\".\"):\n",
    "        if subword not in english_words:\n",
    "            allSubwordsOkay = False\n",
    "            break\n",
    "    if allSubwordsOkay:\n",
    "        return True\n",
    "\n",
    "    return False\n",
    "\n",
    "\n",
    "filtered_sentence = []\n",
    "for w in word_tokens:\n",
    "    w = w.lower()\n",
    "    if w[0].isalpha():\n",
    "        if w not in stop_words:\n",
    "            if is_english_word(w):\n",
    "                if w not in filtered_sentence:\n",
    "                    filtered_sentence.append(w)\n",
    "            else:\n",
    "                print(f'\"{w}\" is not a word')"
   ]
  },
  {
   "cell_type": "code",
   "execution_count": null,
   "id": "03d2c7d1-e381-49a5-bc9d-0c6e16951071",
   "metadata": {},
   "outputs": [],
   "source": [
    "print(filtered_sentence)"
   ]
  },
  {
   "cell_type": "code",
   "execution_count": null,
   "id": "fd80e5bd-1585-4ef5-9540-b0ecf58bd5e6",
   "metadata": {},
   "outputs": [],
   "source": []
  }
 ],
 "metadata": {
  "kernelspec": {
   "display_name": "Python 3.10.5 ('resume_parser')",
   "language": "python",
   "name": "python3"
  },
  "language_info": {
   "codemirror_mode": {
    "name": "ipython",
    "version": 3
   },
   "file_extension": ".py",
   "mimetype": "text/x-python",
   "name": "python",
   "nbconvert_exporter": "python",
   "pygments_lexer": "ipython3",
   "version": "3.10.5"
  },
  "vscode": {
   "interpreter": {
    "hash": "f88c6b66e36ed60c88c9e8ba52fc69fc86e0691c5b971920f4e9b2c6aa6c05b2"
   }
  }
 },
 "nbformat": 4,
 "nbformat_minor": 5
}
