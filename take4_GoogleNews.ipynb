{
 "cells": [
  {
   "cell_type": "code",
   "execution_count": 1,
   "metadata": {},
   "outputs": [],
   "source": [
    "import os\n",
    "\n",
    "os.environ[\"KMP_DUPLICATE_LIB_OK\"] = \"True\"\n",
    "os.environ[\"TOKENIZERS_PARALLELISM\"] = \"False\"\n",
    "\n",
    "from gensim.models import KeyedVectors\n",
    "\n",
    "# Load vectors directly from the file\n",
    "model = KeyedVectors.load_word2vec_format(\n",
    "    \"pretrained_models/GoogleNews-vectors-negative300.bin\", binary=True\n",
    ")"
   ]
  },
  {
   "cell_type": "code",
   "execution_count": 2,
   "metadata": {},
   "outputs": [
    {
     "name": "stdout",
     "output_type": "stream",
     "text": [
      "word #0/3000000 is </s>\n",
      "word #1/3000000 is in\n",
      "word #2/3000000 is for\n",
      "word #3/3000000 is that\n",
      "word #4/3000000 is is\n",
      "word #5/3000000 is on\n",
      "word #6/3000000 is ##\n",
      "word #7/3000000 is The\n",
      "word #8/3000000 is with\n",
      "word #9/3000000 is said\n"
     ]
    }
   ],
   "source": [
    "for index, word in enumerate(model.index_to_key):\n",
    "    if index == 10:\n",
    "        break\n",
    "    print(f\"word #{index}/{len(model.index_to_key)} is {word}\")"
   ]
  },
  {
   "cell_type": "code",
   "execution_count": 3,
   "metadata": {},
   "outputs": [
    {
     "name": "stdout",
     "output_type": "stream",
     "text": [
      "'car'\t'minivan'\t0.69\n",
      "'car'\t'bicycle'\t0.54\n",
      "'car'\t'airplane'\t0.42\n",
      "'car'\t'cereal'\t0.14\n",
      "'car'\t'communism'\t0.06\n"
     ]
    }
   ],
   "source": [
    "pairs = [\n",
    "    ('car', 'minivan'),   # a minivan is a kind of car\n",
    "    ('car', 'bicycle'),   # still a wheeled vehicle\n",
    "    ('car', 'airplane'),  # ok, no wheels, but still a vehicle\n",
    "    ('car', 'cereal'),    # ... and so on\n",
    "    ('car', 'communism'),\n",
    "]\n",
    "for w1, w2 in pairs:\n",
    "    print('%r\\t%r\\t%.2f' % (w1, w2, model.similarity(w1, w2)))"
   ]
  },
  {
   "cell_type": "code",
   "execution_count": 4,
   "metadata": {},
   "outputs": [
    {
     "name": "stdout",
     "output_type": "stream",
     "text": [
      "[('SUV', 0.8532192707061768), ('vehicle', 0.8175783753395081), ('pickup_truck', 0.7763688564300537), ('Jeep', 0.7567334175109863), ('Ford_Explorer', 0.7565720081329346)]\n"
     ]
    }
   ],
   "source": [
    "print(model.most_similar(positive=['car', 'minivan'], topn=5))"
   ]
  },
  {
   "cell_type": "code",
   "execution_count": 8,
   "metadata": {},
   "outputs": [
    {
     "name": "stdout",
     "output_type": "stream",
     "text": [
      "[('skiiing', 0.5691014528274536), ('sailboat', 0.5679096579551697), ('ski', 0.5635324120521545), ('waterskiing', 0.5539316534996033), ('kayaking', 0.5487785935401917)]\n"
     ]
    }
   ],
   "source": [
    "print(model.most_similar(positive=['Columbia', \"polo\", \"harp\", \"skiing\", \"yacht\"], topn=5))"
   ]
  },
  {
   "cell_type": "code",
   "execution_count": 9,
   "metadata": {},
   "outputs": [
    {
     "name": "stdout",
     "output_type": "stream",
     "text": [
      "[('Cornell', 0.7422523498535156),\n",
      " ('Tufts', 0.7086114883422852),\n",
      " ('Dartmouth', 0.7073397040367126),\n",
      " ('Ivy_League', 0.6837064027786255),\n",
      " ('Brandeis', 0.66901695728302),\n",
      " ('UMass', 0.6651633381843567),\n",
      " ('NYU', 0.662602961063385),\n",
      " ('Dartmouth_College', 0.6610315442085266),\n",
      " ('BU', 0.6512957811355591),\n",
      " ('Bowdoin', 0.6460563540458679)]\n"
     ]
    }
   ],
   "source": [
    "from pprint import pprint\n",
    "pprint(model.most_similar(positive=['Harvard', \"Yale\", \"Princeton\", \"MIT\", \"Stanford\"], topn=10))"
   ]
  },
  {
   "cell_type": "code",
   "execution_count": 12,
   "metadata": {},
   "outputs": [
    {
     "name": "stdout",
     "output_type": "stream",
     "text": [
      "[('Bower_Doucette', 0.5430389642715454),\n",
      " ('piano', 0.4990231394767761),\n",
      " ('flute', 0.4936140775680542),\n",
      " ('oboe', 0.4935455322265625),\n",
      " ('violin', 0.4895135164260864),\n",
      " ('Celtic_harp', 0.4877593517303467),\n",
      " ('Caitlin_Hammaren_loved', 0.4849218726158142),\n",
      " ('wide_receiver_Ken_Margerum', 0.4834051728248596),\n",
      " ('clarsach', 0.48050457239151),\n",
      " ('UCLA', 0.4758695960044861)]\n"
     ]
    }
   ],
   "source": [
    "pprint(model.most_similar(positive=[\"Stanford\", \"harp\", \"equestrian\"], topn=10))"
   ]
  },
  {
   "cell_type": "code",
   "execution_count": null,
   "metadata": {},
   "outputs": [],
   "source": []
  }
 ],
 "metadata": {
  "kernelspec": {
   "display_name": "Python 3.10.5 ('resume_parser')",
   "language": "python",
   "name": "python3"
  },
  "language_info": {
   "codemirror_mode": {
    "name": "ipython",
    "version": 3
   },
   "file_extension": ".py",
   "mimetype": "text/x-python",
   "name": "python",
   "nbconvert_exporter": "python",
   "pygments_lexer": "ipython3",
   "version": "3.10.5"
  },
  "orig_nbformat": 4,
  "vscode": {
   "interpreter": {
    "hash": "f88c6b66e36ed60c88c9e8ba52fc69fc86e0691c5b971920f4e9b2c6aa6c05b2"
   }
  }
 },
 "nbformat": 4,
 "nbformat_minor": 2
}
